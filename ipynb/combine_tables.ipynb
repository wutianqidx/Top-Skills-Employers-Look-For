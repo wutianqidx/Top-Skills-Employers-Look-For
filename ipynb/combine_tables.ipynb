{
 "cells": [
  {
   "cell_type": "code",
   "execution_count": null,
   "metadata": {},
   "outputs": [],
   "source": [
    "import pandas as pd\n",
    "\n",
    "data_dirs = ['data/Amazon_DS_Qualifications.txt', 'data/Amazon_RS_Qualifications.txt',\n",
    "             'data/Amazon_ML_Qualifications.txt', 'data/Amazon_BI_Qualifications.txt',\n",
    "             'data/Amazon_SDE_Qualifications.txt']\n",
    "\n",
    "head_lines = []\n",
    "combined_data = None\n",
    "\n",
    "for data_dir in data_dirs:\n",
    "    data = pd.read_table(data_dir, sep = '\\t')\n",
    "    combined_data = pd.concat([combined_data, data])\n",
    "    \n",
    "combined_data = combined_data.reset_index(drop = True).dropna()\n",
    "combined_data.to_csv('data/Amazon_Total_Qualifications.txt', sep = '\\t', index = False)"
   ]
  }
 ],
 "metadata": {
  "kernelspec": {
   "display_name": "Python 3",
   "language": "python",
   "name": "python3"
  },
  "language_info": {
   "codemirror_mode": {
    "name": "ipython",
    "version": 3
   },
   "file_extension": ".py",
   "mimetype": "text/x-python",
   "name": "python",
   "nbconvert_exporter": "python",
   "pygments_lexer": "ipython3",
   "version": "3.8.5"
  }
 },
 "nbformat": 4,
 "nbformat_minor": 4
}
